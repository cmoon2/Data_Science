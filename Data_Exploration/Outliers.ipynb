{
 "cells": [
  {
   "cell_type": "markdown",
   "metadata": {},
   "source": [
    "# Outlier Treatment"
   ]
  },
  {
   "cell_type": "markdown",
   "metadata": {},
   "source": [
    "## What is an outlier?\n",
    "\n",
    "Outlier is an observation that appears far away and diverges from an overall pattern in a dataset. For example, the average annual income of customers is \\$0.5 million. But there is a customer having annual income of \\$20 million. This oberservation would be considered as an outliler.\n",
    "\n",
    "\n",
    "## What is the impact of outliers on a dataset?\n",
    "\n",
    "Outliers can drastically change the results of the data analysis and statistical modeling: 1) They can increase the error variance and reduce the power of statistical modeling, and 2) They can bias or influence estimates."
   ]
  },
  {
   "cell_type": "code",
   "execution_count": 97,
   "metadata": {
    "collapsed": false
   },
   "outputs": [
    {
     "data": {
      "image/png": "[encoded data removed]",
      "text/plain": [
       "<matplotlib.figure.Figure at 0x111d0d2d0>"
      ]
     },
     "metadata": {},
     "output_type": "display_data"
    }
   ],
   "source": [
    "%matplotlib inline\n",
    "\n",
    "import numpy as np\n",
    "import matplotlib.pyplot as plt\n",
    "\n",
    "incomes = np.random.normal(500000, 200000, 1000)\n",
    "\n",
    "# An outlier who has annual income of $4 million\n",
    "incomes = np.append(incomes, [20000000])\n",
    "\n",
    "plt.hist(incomes, 50)\n",
    "plt.show()\n"
   ]
  },
  {
   "cell_type": "code",
   "execution_count": 98,
   "metadata": {
    "collapsed": false
   },
   "outputs": [
    {
     "name": "stdout",
     "output_type": "stream",
     "text": [
      "Mean = 523951.930574\n",
      "Median = 505042.927051\n",
      "Standard Deviation = 647070.612515\n"
     ]
    }
   ],
   "source": [
    "print \"Mean = \" + str(np.mean(incomes)) + \"\\n\" + \"Median = \" + str(np.median(incomes)) + \"\\n\" + \"Standard Deviation = \" + str(np.std(incomes))"
   ]
  },
  {
   "cell_type": "markdown",
   "metadata": {},
   "source": [
    "## How to detect Outliers?\n",
    "\n",
    "Most commonly used method to detect outliers is visualization like Box-plot, Histogram and Scatter Plot. There are also thumb rules: 1) Any value, which is beyond the range of $Q1 - 1.5 \\times IQR$ to $Q3 + 1.5 \\times IQR$ (IQR: Interquartile Range), 2) Any value, which is out of range of 5th and 95th percentile, 3) Data points, which are three or more standard deviation away from mean, and 4) Bivariate and multivariate outliers are typically measured using either an index of influence or leverage, or distance. Popular indices such as Mahalanobis’ distance and Cook’s D are frequently used to detect outliers."
   ]
  },
  {
   "cell_type": "markdown",
   "metadata": {},
   "source": [
    "### IQR Rule for Outliers\n",
    "\n",
    "1. Arrange data in order.\n",
    "2. Calculate first quartile (Q1), third quartile (Q3) and the interquartile range (IQR = Q3 - Q1).\n",
    "3. Compute Q1 – 1.5 × IQR, and compute Q3 + 1.5 × IQR. Anything outside this range is an outlier.\n"
   ]
  },
  {
   "cell_type": "code",
   "execution_count": 99,
   "metadata": {
    "collapsed": false
   },
   "outputs": [
    {
     "data": {
      "image/png": "[encoded data removed]",
      "text/plain": [
       "<matplotlib.figure.Figure at 0x112cd30d0>"
      ]
     },
     "metadata": {},
     "output_type": "display_data"
    }
   ],
   "source": [
    "def del_outliers_IQR(data):\n",
    "    data.sort()\n",
    "    q3, q1 = np.percentile(data, [75 ,25])\n",
    "    iqr = q3 - q1\n",
    "    \n",
    "    filtered = [x for x in data if ((q1 - (1.5 * iqr)) < x < (q3 + (1.5 * iqr)))]\n",
    "    return filtered\n",
    "\n",
    "filtered = del_outliers_IQR(incomes)\n",
    "\n",
    "plt.hist(filtered, 50)\n",
    "plt.show()"
   ]
  },
  {
   "cell_type": "code",
   "execution_count": 100,
   "metadata": {
    "collapsed": false
   },
   "outputs": [
    {
     "name": "stdout",
     "output_type": "stream",
     "text": [
      "Mean = 503761.544058\n",
      "Median = 504264.582268\n",
      "Standard Deviation = 194563.666973\n"
     ]
    }
   ],
   "source": [
    "print \"Mean = \" + str(np.mean(filtered)) + \"\\n\" + \"Median = \" + str(np.median(filtered)) + \"\\n\" + \"Standard Deviation = \" + str(np.std(filtered))"
   ]
  },
  {
   "cell_type": "markdown",
   "metadata": {},
   "source": [
    "### Using Standard Deviation\n",
    "\n",
    "Anything, which is three or more standard deviation away from mean, is an outlier."
   ]
  },
  {
   "cell_type": "code",
   "execution_count": 101,
   "metadata": {
    "collapsed": false
   },
   "outputs": [
    {
     "data": {
      "image/png": "[encoded data removed]",
      "text/plain": [
       "<matplotlib.figure.Figure at 0x111e51c90>"
      ]
     },
     "metadata": {},
     "output_type": "display_data"
    }
   ],
   "source": [
    "def del_outliers_std(data):\n",
    "    mu = np.mean(data)\n",
    "    std = np.std(data)\n",
    "    \n",
    "    filtered = [x for x in data if ((mu - (3 * std)) < x < (mu + (3 * std)))]\n",
    "    return filtered2\n",
    "\n",
    "filtered = del_outliers_std(incomes)\n",
    "\n",
    "plt.hist(filtered, 50)\n",
    "plt.show()"
   ]
  },
  {
   "cell_type": "code",
   "execution_count": 102,
   "metadata": {
    "collapsed": false
   },
   "outputs": [
    {
     "name": "stdout",
     "output_type": "stream",
     "text": [
      "Mean = 499976.815012\n",
      "Median = 503972.449792\n",
      "Standard Deviation = 199772.702624\n"
     ]
    }
   ],
   "source": [
    "print \"Mean = \" + str(np.mean(filtered)) + \"\\n\" + \"Median = \" + str(np.median(filtered)) + \"\\n\" + \"Standard Deviation = \" + str(np.std(filtered))"
   ]
  }
 ],
 "metadata": {
  "kernelspec": {
   "display_name": "Python 2",
   "language": "python",
   "name": "python2"
  },
  "language_info": {
   "codemirror_mode": {
    "name": "ipython",
    "version": 2
   },
   "file_extension": ".py",
   "mimetype": "text/x-python",
   "name": "python",
   "nbconvert_exporter": "python",
   "pygments_lexer": "ipython2",
   "version": "2.7.11"
  }
 },
 "nbformat": 4,
 "nbformat_minor": 0
}
